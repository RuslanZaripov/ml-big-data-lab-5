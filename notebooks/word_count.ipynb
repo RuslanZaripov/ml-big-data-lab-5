{
 "cells": [
  {
   "cell_type": "code",
   "execution_count": 1,
   "id": "49b75770",
   "metadata": {},
   "outputs": [
    {
     "name": "stdout",
     "output_type": "stream",
     "text": [
      "Note: you may need to restart the kernel to use updated packages.\n"
     ]
    }
   ],
   "source": [
    "%pip install -q python-dotenv"
   ]
  },
  {
   "cell_type": "code",
   "execution_count": 2,
   "id": "96e72ca8",
   "metadata": {},
   "outputs": [],
   "source": [
    "import os\n",
    "import configparser\n",
    "from pyspark.sql import SparkSession\n",
    "from pyspark.conf import SparkConf\n",
    "from pyspark.sql.functions import split, explode, lower, col\n",
    "from pyspark.ml.feature import StopWordsRemover\n",
    "from dotenv import load_dotenv"
   ]
  },
  {
   "cell_type": "code",
   "execution_count": 4,
   "id": "f5524f72",
   "metadata": {},
   "outputs": [],
   "source": [
    "TABLE = \"user_reviews\"\n",
    "spark_config_apth = 'conf/spark.ini'"
   ]
  },
  {
   "cell_type": "code",
   "execution_count": 5,
   "id": "221699bd",
   "metadata": {},
   "outputs": [
    {
     "data": {
      "text/plain": [
       "[('spark.master', 'local[*]'),\n",
       " ('spark.driver.memory', '2g'),\n",
       " ('spark.executor.memory', '1g'),\n",
       " ('spark.executor.instances', '2'),\n",
       " ('spark.executor.cores', '2'),\n",
       " ('spark.dynamicAllocation.enabled', 'true'),\n",
       " ('spark.dynamicAllocation.minExecutors', '1'),\n",
       " ('spark.dynamicAllocation.maxExecutors', '5'),\n",
       " ('spark.sql.execution.arrow.pyspark.enabled', 'true')]"
      ]
     },
     "execution_count": 5,
     "metadata": {},
     "output_type": "execute_result"
    }
   ],
   "source": [
    "config = configparser.ConfigParser()\n",
    "config.optionxform=str\n",
    "config.read(spark_config_apth)\n",
    "list(config['spark'].items())"
   ]
  },
  {
   "cell_type": "code",
   "execution_count": 6,
   "id": "b8a6f80c",
   "metadata": {},
   "outputs": [
    {
     "data": {
      "text/plain": [
       "<pyspark.conf.SparkConf at 0x7f0085078290>"
      ]
     },
     "execution_count": 6,
     "metadata": {},
     "output_type": "execute_result"
    }
   ],
   "source": [
    "conf = SparkConf()\n",
    "conf.setAll(list(config['spark'].items()))"
   ]
  },
  {
   "cell_type": "code",
   "execution_count": 7,
   "id": "3872690b",
   "metadata": {},
   "outputs": [],
   "source": [
    "spark = SparkSession.builder.config(conf=conf) \\\n",
    "    .getOrCreate()\n",
    "    \n",
    "sc = spark.sparkContext"
   ]
  },
  {
   "cell_type": "code",
   "execution_count": 9,
   "id": "69dfa036",
   "metadata": {},
   "outputs": [],
   "source": [
    "path = './sparkdata/googleplaystore_user_reviews.csv'"
   ]
  },
  {
   "cell_type": "code",
   "execution_count": 10,
   "id": "b23c47e6",
   "metadata": {},
   "outputs": [
    {
     "name": "stdout",
     "output_type": "stream",
     "text": [
      "+-----------+---------------------+------------------------------------------------------------------------------------------------------------------------------+---------+------------------+----------------------+\n",
      "|IndexColumn|App                  |Translated_Review                                                                                                             |Sentiment|Sentiment_Polarity|Sentiment_Subjectivity|\n",
      "+-----------+---------------------+------------------------------------------------------------------------------------------------------------------------------+---------+------------------+----------------------+\n",
      "|0          |10 Best Foods for You|\"I like eat delicious food. That's I'm cooking food myself case \"\"10 Best Foods\"\" helps lot also \"\"Best Before (Shelf Life)\"\"\"|Positive |1.0               |0.5333333333333333    |\n",
      "|1          |10 Best Foods for You|This help eating healthy exercise regular basis                                                                               |Positive |0.25              |0.2884615384615384    |\n",
      "|2          |10 Best Foods for You|NULL                                                                                                                          |NULL     |NULL              |NULL                  |\n",
      "|3          |10 Best Foods for You|Works great especially going grocery store                                                                                    |Positive |0.4               |0.875                 |\n",
      "|4          |10 Best Foods for You|Best idea us                                                                                                                  |Positive |1.0               |0.3                   |\n",
      "+-----------+---------------------+------------------------------------------------------------------------------------------------------------------------------+---------+------------------+----------------------+\n",
      "only showing top 5 rows\n",
      "\n"
     ]
    }
   ],
   "source": [
    "df = spark.read \\\n",
    "    .options(delimiter=\",\", header=True) \\\n",
    "    .csv(path)\n",
    "    \n",
    "df.cache().show(5, False)"
   ]
  },
  {
   "cell_type": "code",
   "execution_count": 13,
   "id": "630a7f52",
   "metadata": {},
   "outputs": [
    {
     "data": {
      "text/plain": [
       "DataFrame[indexcolumn: string, app: string, sentiment: string, sentiment_polarity: string, sentiment_subjectivity: string, translated_review: string]"
      ]
     },
     "execution_count": 13,
     "metadata": {},
     "output_type": "execute_result"
    }
   ],
   "source": [
    "df.unpersist()"
   ]
  },
  {
   "cell_type": "code",
   "execution_count": 11,
   "id": "62147d63",
   "metadata": {},
   "outputs": [
    {
     "data": {
      "text/plain": [
       "2"
      ]
     },
     "execution_count": 11,
     "metadata": {},
     "output_type": "execute_result"
    }
   ],
   "source": [
    "df.rdd.getNumPartitions()"
   ]
  },
  {
   "cell_type": "code",
   "execution_count": 12,
   "id": "2d782ce5",
   "metadata": {},
   "outputs": [
    {
     "name": "stdout",
     "output_type": "stream",
     "text": [
      "Number of rows: 64295\n"
     ]
    }
   ],
   "source": [
    "print(\"Number of rows:\", df.count())"
   ]
  },
  {
   "cell_type": "code",
   "execution_count": 13,
   "id": "d8b3488d",
   "metadata": {},
   "outputs": [
    {
     "name": "stdout",
     "output_type": "stream",
     "text": [
      "+------+-----+\n",
      "|  word|count|\n",
      "+------+-----+\n",
      "|      |23013|\n",
      "|  game| 9384|\n",
      "|  like| 5498|\n",
      "|  good| 5271|\n",
      "|   app| 4998|\n",
      "| great| 4810|\n",
      "|   get| 4726|\n",
      "|  love| 4681|\n",
      "|  time| 4538|\n",
      "|really| 3096|\n",
      "|  even| 2883|\n",
      "|   ads| 2661|\n",
      "|     m| 2564|\n",
      "|update| 2536|\n",
      "|  play| 2479|\n",
      "| phone| 2439|\n",
      "|please| 2397|\n",
      "|  work| 2349|\n",
      "|  also| 2339|\n",
      "|  much| 2305|\n",
      "+------+-----+\n",
      "only showing top 20 rows\n",
      "\n"
     ]
    }
   ],
   "source": [
    "# Tokenize the reviews\n",
    "df_words = df.withColumn(\"word\", explode(split(lower(col(\"Translated_Review\")), \"\\\\W+\")))\n",
    "\n",
    "# Remove stop words\n",
    "stop_words = set(StopWordsRemover.loadDefaultStopWords(\"english\"))  # Default English stop words\n",
    "df_filtered = df_words.filter(~df_words.word.isin(stop_words))\n",
    "\n",
    "# Count word frequency\n",
    "word_frequency = df_filtered.groupBy(\"word\").count().orderBy(col(\"count\").desc())\n",
    "\n",
    "# Display the top keywords\n",
    "word_frequency.show()\n",
    "\n",
    "# If you want to get the results in Python\n",
    "keywords_list = word_frequency.rdd.map(lambda row: (row.word, row.count)).collect()\n"
   ]
  },
  {
   "cell_type": "code",
   "execution_count": 14,
   "id": "1088e881",
   "metadata": {},
   "outputs": [],
   "source": [
    "spark.stop()"
   ]
  },
  {
   "cell_type": "code",
   "execution_count": null,
   "id": "ac5af16e",
   "metadata": {},
   "outputs": [],
   "source": []
  }
 ],
 "metadata": {
  "kernelspec": {
   "display_name": "Python 3 (ipykernel)",
   "language": "python",
   "name": "python3"
  },
  "language_info": {
   "codemirror_mode": {
    "name": "ipython",
    "version": 3
   },
   "file_extension": ".py",
   "mimetype": "text/x-python",
   "name": "python",
   "nbconvert_exporter": "python",
   "pygments_lexer": "ipython3",
   "version": "3.11.6"
  }
 },
 "nbformat": 4,
 "nbformat_minor": 5
}
